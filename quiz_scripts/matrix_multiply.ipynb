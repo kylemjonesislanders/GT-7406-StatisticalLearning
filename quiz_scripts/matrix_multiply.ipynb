{
 "cells": [
  {
   "cell_type": "code",
   "execution_count": 6,
   "metadata": {},
   "outputs": [
    {
     "data": {
      "text/plain": [
       "array([[1.6],\n",
       "       [2.6]])"
      ]
     },
     "execution_count": 6,
     "metadata": {},
     "output_type": "execute_result"
    }
   ],
   "source": [
    "import numpy as np\n",
    "from numpy.linalg import inv\n",
    "def Bet_Estimator(X,Y):\n",
    "    XT = np.transpose(X)\n",
    "    XTX = np.matmul(XT, X)\n",
    "    Betas = np.matmul(np.matmul(inv(XTX),XT),Y)\n",
    "    return(Betas)\n",
    "\n",
    "X = np.array([[1,0],\n",
    "              [0,1],\n",
    "              [1,1],\n",
    "              [1,1]])\n",
    "Y = np.array([[2],\n",
    "              [3],\n",
    "              [4],\n",
    "              [4]])\n",
    "Bet_Estimator(X,Y)"
   ]
  },
  {
   "cell_type": "code",
   "execution_count": 7,
   "metadata": {},
   "outputs": [
    {
     "name": "stdout",
     "output_type": "stream",
     "text": [
      "RSS: 0.56\n",
      "Variance: 0.14\n"
     ]
    }
   ],
   "source": [
    "errors = [0.1, .5, -.4, .1, -.3, .2]\n",
    "p = 2\n",
    "n = len(errors)\n",
    "RSS = 0\n",
    "for error in errors:\n",
    "    RSS = RSS + error**2 \n",
    "variance =RSS/(n-p)\n",
    "print('RSS: ' + str(RSS))\n",
    "print('Variance: ' + str(variance))"
   ]
  },
  {
   "cell_type": "code",
   "execution_count": 5,
   "metadata": {},
   "outputs": [
    {
     "data": {
      "text/plain": [
       "array([[1.4]])"
      ]
     },
     "execution_count": 5,
     "metadata": {},
     "output_type": "execute_result"
    }
   ],
   "source": [
    "import numpy as np\n",
    "from numpy.linalg import inv\n",
    "\n",
    "# Define values needed\n",
    "X = np.array([[1,0],\n",
    "              [0,1],\n",
    "              [1,1],\n",
    "              [1,1]])\n",
    "XT = np.transpose(X)\n",
    "x_new = np.array([[1],\n",
    "                  [1]])\n",
    "x_newT = np.transpose(x_new)\n",
    "XTXinv = inv(np.matmul(XT, X))\n",
    "\n",
    "value = 1 + np.matmul(np.matmul(x_newT, XTXinv),x_new)\n",
    "value"
   ]
  },
  {
   "cell_type": "code",
   "execution_count": 4,
   "metadata": {},
   "outputs": [
    {
     "data": {
      "text/plain": [
       "array([[0.4]])"
      ]
     },
     "execution_count": 4,
     "metadata": {},
     "output_type": "execute_result"
    }
   ],
   "source": [
    "np.matmul(np.matmul(x_newT, XTXinv),x_new)"
   ]
  },
  {
   "cell_type": "code",
   "execution_count": 14,
   "metadata": {},
   "outputs": [
    {
     "data": {
      "text/plain": [
       "1.3333333333333333"
      ]
     },
     "execution_count": 14,
     "metadata": {},
     "output_type": "execute_result"
    }
   ],
   "source": [
    "4/3"
   ]
  },
  {
   "cell_type": "code",
   "execution_count": null,
   "metadata": {},
   "outputs": [],
   "source": []
  }
 ],
 "metadata": {
  "kernelspec": {
   "display_name": "Python 3",
   "language": "python",
   "name": "python3"
  },
  "language_info": {
   "codemirror_mode": {
    "name": "ipython",
    "version": 3
   },
   "file_extension": ".py",
   "mimetype": "text/x-python",
   "name": "python",
   "nbconvert_exporter": "python",
   "pygments_lexer": "ipython3",
   "version": "3.8.5"
  }
 },
 "nbformat": 4,
 "nbformat_minor": 4
}
