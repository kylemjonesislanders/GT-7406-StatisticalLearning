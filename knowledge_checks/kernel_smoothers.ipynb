{
 "cells": [
  {
   "cell_type": "code",
   "execution_count": 51,
   "metadata": {},
   "outputs": [],
   "source": [
    "# User defined variables and kernels\n",
    "import numpy as np\n",
    "\n",
    "# User defined varaibles (Yi, xi)\n",
    "observations = [[1,-1],\n",
    "                [2,0],\n",
    "                [0,1],\n",
    "                [3,2],\n",
    "                [-6,3]]\n",
    "n = len(observations)\n",
    "h = 1\n",
    "x_predict = 0.5\n",
    "a = 0\n",
    "b = 1\n",
    "\n",
    "def triangle_kernel(u):\n",
    "    abs_u = np.abs(u)\n",
    "    if abs_u <= 1:\n",
    "        return(1-abs_u)\n",
    "    else:\n",
    "        return(0)\n",
    "\n",
    "def epanechnikov_kernel(u):\n",
    "    abs_u = np.abs(u)\n",
    "    if abs_u <= 1:\n",
    "        return((3/4)*(1-(u**2)))\n",
    "    else:\n",
    "        return(0)"
   ]
  },
  {
   "cell_type": "code",
   "execution_count": 48,
   "metadata": {},
   "outputs": [
    {
     "name": "stdout",
     "output_type": "stream",
     "text": [
      "Priestly Chao Estimate: 1.0875000000000001\n"
     ]
    }
   ],
   "source": [
    "# Priestly_chao\n",
    "\n",
    "def preistly_chao_u(x, x_predict, h):\n",
    "    return((x_predict-x)/h)\n",
    "\n",
    "results = []\n",
    "for observation in observations:\n",
    "    y = observation[0]\n",
    "    x = observation[1]\n",
    "    \n",
    "    preistly_chao_u_result = preistly_chao_u(x, x_predict, h)\n",
    "    kernel_result = epanechnikov_kernel(preistly_chao_u_result)\n",
    "    final_result = kernel_result*y\n",
    "    results.append(final_result)\n",
    "summed_results = sum(results)\n",
    "final_final_result = ((b-a)/(n*h))*summed_results\n",
    "print('Priestly Chao Estimate: ' + str(final_final_result))"
   ]
  },
  {
   "cell_type": "code",
   "execution_count": 52,
   "metadata": {},
   "outputs": [
    {
     "name": "stdout",
     "output_type": "stream",
     "text": [
      "Nadaraya Watson Estimate: 1.0\n"
     ]
    }
   ],
   "source": [
    "# Nadaraya Watson Estimator\n",
    "results_numerator = []\n",
    "results_denominator = []\n",
    "for observation in observations:\n",
    "    y = observation[0]\n",
    "    x = observation[1]\n",
    "    \n",
    "    preistly_chao_u_result = preistly_chao_u(x, x_predict, h)\n",
    "    kernel_result = epanechnikov_kernel(preistly_chao_u_result)\n",
    "    final_result_numerator = kernel_result*y\n",
    "    final_result_denominator = kernel_result\n",
    "    results_numerator.append(final_result_numerator)\n",
    "    results_denominator.append(final_result_denominator)\n",
    "summed_numerator = sum(results_numerator)\n",
    "summed_denominator = sum(results_denominator)\n",
    "print('Nadaraya Watson Estimate: ' + str(summed_numerator/summed_denominator))   "
   ]
  },
  {
   "cell_type": "code",
   "execution_count": null,
   "metadata": {},
   "outputs": [],
   "source": []
  }
 ],
 "metadata": {
  "kernelspec": {
   "display_name": "Python 3",
   "language": "python",
   "name": "python3"
  },
  "language_info": {
   "codemirror_mode": {
    "name": "ipython",
    "version": 3
   },
   "file_extension": ".py",
   "mimetype": "text/x-python",
   "name": "python",
   "nbconvert_exporter": "python",
   "pygments_lexer": "ipython3",
   "version": "3.8.5"
  }
 },
 "nbformat": 4,
 "nbformat_minor": 4
}
